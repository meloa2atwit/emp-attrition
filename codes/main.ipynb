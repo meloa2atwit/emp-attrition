{
 "cells": [
  {
   "cell_type": "code",
   "execution_count": null,
   "metadata": {},
   "outputs": [],
   "source": [
    "import pandas as pd\n",
    "import numpy as np\n",
    "import matplotlib.pyplot as plt\n",
    "from sklearn.ensemble import RandomForestRegressor\n",
    "from sklearn.model_selection import train_test_split\n",
    "from sklearn.ensemble import RandomForestClassifier\n",
    "from sklearn.metrics import classification_report, accuracy_score\n",
    "\n",
    "# Constants\n",
    "DS = \"../data/HR Employee Attrition.csv\"\n",
    "RANDOM_SEED = 42\n",
    "\n",
    "# Read data set\n",
    "df = pd.read_csv(filepath_or_buffer=DS)"
   ]
  },
  {
   "cell_type": "markdown",
   "metadata": {},
   "source": [
    "#### Data Cleaning\n",
    "- Indentify which columns have non numerical data\n",
    "- Convert NaN data to numerical"
   ]
  },
  {
   "cell_type": "code",
   "execution_count": null,
   "metadata": {},
   "outputs": [],
   "source": [
    "# Identifying NaN Columns\n",
    "NaN_columns = df.select_dtypes(exclude='number').columns.tolist()\n",
    "for col in NaN_columns:\n",
    "    print(col)\n",
    "    print(df[col].unique())"
   ]
  },
  {
   "cell_type": "code",
   "execution_count": null,
   "metadata": {},
   "outputs": [],
   "source": [
    "# Numerizing NaN columns\n",
    "df[\"Attrition\"].replace({\"Yes\":1, \"No\":0}, inplace=True )\n",
    "df[\"OverTime\"].replace( {\"Yes\":1, \"No\":0}, inplace=True )\n",
    "df[\"Over18\"].replace( {\"Y\":1}, inplace=True)\n",
    "df[\"BusinessTravel\"].replace( {\"Travel_Rarely\":0.5, \"Travel_Frequently\":1, \"Non-Travel\":0}, inplace=True )\n",
    "df[\"Gender\"].replace( {\"Female\":1, \"Male\":0}, inplace=True )\n",
    "df[\"MaritalStatus\"].replace( {\"Single\":0, \"Married\":1, \"Divorced\":2}, inplace=True )\n",
    "# Note: Columns [Department], [JobRole], [EducationField] wont be an input.\n",
    "df.drop(columns=[\"Department\", \"JobRole\", \"EducationField\"], inplace=True)"
   ]
  },
  {
   "cell_type": "markdown",
   "metadata": {},
   "source": [
    "#### Training Model\n",
    "Random Forest Regressor"
   ]
  },
  {
   "cell_type": "code",
   "execution_count": null,
   "metadata": {},
   "outputs": [],
   "source": [
    "def get_feature_importance(random_seed:int, data_set:pd.DataFrame, target_feature:str):\n",
    "    # Separate traget column\n",
    "    X = data_set.drop(target_feature, axis=1)\n",
    "    y = data_set[target_feature]\n",
    "\n",
    "    # Set model\n",
    "    model = RandomForestRegressor(random_state=random_seed)\n",
    "    model.fit(X, y)\n",
    "\n",
    "    # Get feature importance\n",
    "    feature_importances = model.feature_importances_\n",
    "    feature_names = X.columns\n",
    "    importance_dict = dict(zip(feature_names, feature_importances))\n",
    "\n",
    "    return np.array(sorted(importance_dict.items(), key=lambda x: x[1], reverse=True))"
   ]
  },
  {
   "cell_type": "markdown",
   "metadata": {},
   "source": [
    "#### Experiment 1\n",
    "Find out which columns/employee attributes, contribute the most to employee attrition?"
   ]
  },
  {
   "cell_type": "code",
   "execution_count": null,
   "metadata": {},
   "outputs": [],
   "source": [
    "# Get feature importance scores\n",
    "ft_importance = get_feature_importance(data_set=df, random_seed=RANDOM_SEED, target_feature=\"Attrition\")\n",
    "# Higher score means that columns affects the target column the most"
   ]
  },
  {
   "cell_type": "code",
   "execution_count": null,
   "metadata": {},
   "outputs": [],
   "source": [
    "# Graphing the 10 most influential columns\n",
    "ft = ft_importance[:,1].astype(\"float\") # str to float\n",
    "ft = (ft / np.sum(ft))[:10]             # Normalize scores\n",
    "plt.bar(ft_importance[:10,0], ft)\n",
    "plt.xticks(rotation=\"vertical\")\n",
    "plt.xlabel('Feature')\n",
    "plt.ylabel('Normalized Importance Score')\n",
    "plt.title('Normalized Feature Importance Scores')\n",
    "# Save Grpah\n",
    "graph_path = \"../graph/Feature-Importance-Graph.png\"\n",
    "plt.savefig(graph_path)\n",
    "# Show graph\n",
    "plt.figure(figsize=(10,10))\n",
    "plt.show()\n"
   ]
  },
  {
   "cell_type": "markdown",
   "metadata": {},
   "source": [
    "#### Experiment 2\n",
    "Given the attributes of an employee, what is the probability of their attrition?"
   ]
  },
  {
   "cell_type": "code",
   "execution_count": null,
   "metadata": {},
   "outputs": [],
   "source": [
    "# Extract features (X) and target variable (y)\n",
    "X = df.drop([\"Attrition\"], axis=1)\n",
    "y = df['Attrition']\n",
    "\n",
    "# one-hot encoding\n",
    "X = pd.get_dummies(X)\n",
    "\n",
    "# Split the data into training and testing sets\n",
    "X_train, X_test, y_train, y_test = train_test_split(X, y, test_size=0.2, random_state=RANDOM_SEED)\n",
    "\n",
    "# Initialize the RandomForestClassifier\n",
    "model = RandomForestClassifier(random_state=RANDOM_SEED)\n",
    "\n",
    "# Train the model\n",
    "model.fit(X_train, y_train)\n",
    "\n",
    "# Make predictions on the test set\n",
    "y_pred = model.predict(X_test)\n"
   ]
  },
  {
   "cell_type": "code",
   "execution_count": null,
   "metadata": {},
   "outputs": [],
   "source": [
    "# Evaluate the model\n",
    "accuracy = accuracy_score(y_test, y_pred)\n",
    "print(f\"Accuracy: {accuracy:.2f}\")"
   ]
  },
  {
   "cell_type": "code",
   "execution_count": null,
   "metadata": {},
   "outputs": [],
   "source": [
    "def run_attrition_simulation(model:RandomForestClassifier):\n",
    "    attributes_required = ft_importance[:,0][:10]\n",
    "    emp_info = pd.DataFrame()\n",
    "    for idx, att in enumerate(attributes_required):\n",
    "        user_input = input(f\"Enter {att}: \")\n",
    "        emp_info[att] = [float(user_input)]\n",
    "\n",
    "    print(emp_info)\n",
    "    prediction = model.predict(emp_info)\n",
    "    print(f\"Attrition: {prediction}\")\n",
    "    return \n"
   ]
  },
  {
   "cell_type": "code",
   "execution_count": null,
   "metadata": {},
   "outputs": [],
   "source": [
    "print(df.iloc[:1][\"Attrition\"])\n",
    "print(df.iloc[:1][ft_importance[:,0][:10]])"
   ]
  },
  {
   "cell_type": "code",
   "execution_count": null,
   "metadata": {},
   "outputs": [],
   "source": [
    "run_attrition_simulation(model)"
   ]
  }
 ],
 "metadata": {
  "kernelspec": {
   "display_name": "Python 3",
   "language": "python",
   "name": "python3"
  },
  "language_info": {
   "codemirror_mode": {
    "name": "ipython",
    "version": 3
   },
   "file_extension": ".py",
   "mimetype": "text/x-python",
   "name": "python",
   "nbconvert_exporter": "python",
   "pygments_lexer": "ipython3",
   "version": "3.10.12"
  }
 },
 "nbformat": 4,
 "nbformat_minor": 2
}
